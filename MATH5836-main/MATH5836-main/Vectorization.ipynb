{
 "cells": [
  {
   "cell_type": "code",
   "execution_count": 4,
   "id": "898ebda5-1141-4f22-b8fc-84b282f4a5ff",
   "metadata": {},
   "outputs": [],
   "source": [
    "import numpy as np\n",
    "import time"
   ]
  },
  {
   "cell_type": "code",
   "execution_count": 2,
   "id": "5709e21d-1895-4eb7-8162-146b88b7549d",
   "metadata": {},
   "outputs": [],
   "source": [
    "a = np.array([1,2,3,4])"
   ]
  },
  {
   "cell_type": "code",
   "execution_count": 8,
   "id": "d209a5b1-8a35-453e-bd45-2a863c58cbae",
   "metadata": {},
   "outputs": [
    {
     "name": "stdout",
     "output_type": "stream",
     "text": [
      "250036.1249553933\n",
      "Vectorized version:0.5929470062255859ms\n",
      "250036.1249554027\n",
      "For loop:321.98095321655273ms\n"
     ]
    }
   ],
   "source": [
    "a = np.random.rand(1000000)\n",
    "b = np.random.rand(1000000)\n",
    "#rand  从均匀分布中抽取样本\n",
    "\n",
    "tic = time.time()\n",
    "#返回当前时间戳\n",
    "\n",
    "c = np.dot(a,b)\n",
    "toc = time.time()\n",
    "\n",
    "print(c)\n",
    "print(\"Vectorized version:\" + str(1000*(toc-tic)) + \"ms\")\n",
    "\n",
    "c = 0 \n",
    "tic = time.time()\n",
    "for i in range(1000000):\n",
    "    c += a[i]*b[i]\n",
    "toc = time.time()\n",
    "\n",
    "print(c)\n",
    "print(\"For loop:\" + str(1000*(toc-tic)) + \"ms\")\n",
    "\n",
    "#向量化可以节省计算时间"
   ]
  },
  {
   "cell_type": "code",
   "execution_count": null,
   "id": "1bba9caa-0e76-4004-8029-d8f1f24d98f0",
   "metadata": {},
   "outputs": [],
   "source": []
  }
 ],
 "metadata": {
  "kernelspec": {
   "display_name": "Python 3",
   "language": "python",
   "name": "python3"
  },
  "language_info": {
   "codemirror_mode": {
    "name": "ipython",
    "version": 3
   },
   "file_extension": ".py",
   "mimetype": "text/x-python",
   "name": "python",
   "nbconvert_exporter": "python",
   "pygments_lexer": "ipython3",
   "version": "3.8.8"
  }
 },
 "nbformat": 4,
 "nbformat_minor": 5
}
