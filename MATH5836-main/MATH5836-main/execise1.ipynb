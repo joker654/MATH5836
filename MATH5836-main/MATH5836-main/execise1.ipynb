{
 "cells": [
  {
   "cell_type": "code",
   "execution_count": 681,
   "id": "d32ceaff-056c-47b6-a804-73c6aa483e03",
   "metadata": {},
   "outputs": [],
   "source": [
    "import numpy as np\n",
    "import pandas as pd \n",
    "import matplotlib.pyplot as plt\n",
    "import random"
   ]
  },
  {
   "cell_type": "code",
   "execution_count": 682,
   "id": "218266bf-8e75-40ff-a82d-b185cb3181b1",
   "metadata": {},
   "outputs": [
    {
     "name": "stdout",
     "output_type": "stream",
     "text": [
      "       0    1    2    3               4\n",
      "0    5.1  3.5  1.4  0.2     Iris-setosa\n",
      "1    4.9  3.0  1.4  0.2     Iris-setosa\n",
      "2    4.7  3.2  1.3  0.2     Iris-setosa\n",
      "3    4.6  3.1  1.5  0.2     Iris-setosa\n",
      "4    5.0  3.6  1.4  0.2     Iris-setosa\n",
      "..   ...  ...  ...  ...             ...\n",
      "145  6.7  3.0  5.2  2.3  Iris-virginica\n",
      "146  6.3  2.5  5.0  1.9  Iris-virginica\n",
      "147  6.5  3.0  5.2  2.0  Iris-virginica\n",
      "148  6.2  3.4  5.4  2.3  Iris-virginica\n",
      "149  5.9  3.0  5.1  1.8  Iris-virginica\n",
      "\n",
      "[150 rows x 5 columns]\n"
     ]
    }
   ],
   "source": [
    "data = pd.read_csv('Desktop/unsw/Data mining/iris.data', sep=',', header = None)\n",
    "print(data)"
   ]
  },
  {
   "cell_type": "code",
   "execution_count": 683,
   "id": "38267d3e-8f1a-4336-8ae3-328904ab74e5",
   "metadata": {},
   "outputs": [
    {
     "name": "stdout",
     "output_type": "stream",
     "text": [
      "150\n"
     ]
    }
   ],
   "source": [
    "print(len(data[:]))"
   ]
  },
  {
   "cell_type": "code",
   "execution_count": null,
   "id": "51b1c0dd-70ad-4909-998d-9b7b908fdf30",
   "metadata": {},
   "outputs": [],
   "source": []
  },
  {
   "cell_type": "code",
   "execution_count": 684,
   "id": "b79aa856-6768-47ca-ae3f-68ccb938bec6",
   "metadata": {},
   "outputs": [
    {
     "name": "stdout",
     "output_type": "stream",
     "text": [
      "       0    1    2    3  4\n",
      "0    5.1  3.5  1.4  0.2  1\n",
      "1    4.9  3.0  1.4  0.2  1\n",
      "2    4.7  3.2  1.3  0.2  1\n",
      "3    4.6  3.1  1.5  0.2  1\n",
      "4    5.0  3.6  1.4  0.2  1\n",
      "..   ...  ...  ...  ... ..\n",
      "145  6.7  3.0  5.2  2.3  3\n",
      "146  6.3  2.5  5.0  1.9  3\n",
      "147  6.5  3.0  5.2  2.0  3\n",
      "148  6.2  3.4  5.4  2.3  3\n",
      "149  5.9  3.0  5.1  1.8  3\n",
      "\n",
      "[150 rows x 5 columns]\n"
     ]
    }
   ],
   "source": [
    "data=data.replace(['Iris-setosa', 'Iris-versicolor', 'Iris-virginica'], [1, 2, 3])\n",
    "print(data)"
   ]
  },
  {
   "cell_type": "code",
   "execution_count": 685,
   "id": "eca1c9f5-3ba2-4878-b30e-574a873b4ff4",
   "metadata": {},
   "outputs": [],
   "source": [
    "#for i in range(len(data)):\n",
    "#    if data[i][4] == 'Iris-setosa':\n",
    "#        data[i][4]=1\n",
    "#    elif data[i][4] == 'Iris-versicolor':\n",
    "#       data[i][4]=2\n",
    "#    elif data[i][4] == 'Iris-virginica':\n",
    "#        data[i][4]=3\n",
    "#print(data)"
   ]
  },
  {
   "cell_type": "code",
   "execution_count": 686,
   "id": "da3764ae-638a-47d0-9c34-d9b6fdf3fbdf",
   "metadata": {},
   "outputs": [],
   "source": [
    "data=np.array(data)"
   ]
  },
  {
   "cell_type": "code",
   "execution_count": 687,
   "id": "454e8464-7834-4a89-8c1b-82d18f341777",
   "metadata": {},
   "outputs": [
    {
     "name": "stdout",
     "output_type": "stream",
     "text": [
      "[5.84333333 3.054      3.75866667 1.19866667]\n",
      "[0.82530129 0.43214658 1.75852918 0.76061262]\n"
     ]
    }
   ],
   "source": [
    "data1 = data[:,:4]\n",
    "mean = data1.mean(0)\n",
    "std = data1.std(0)\n",
    "print(mean)\n",
    "print(std)"
   ]
  },
  {
   "cell_type": "code",
   "execution_count": 688,
   "id": "8ae89692-871b-4aed-9eb4-47a85386bcf2",
   "metadata": {},
   "outputs": [],
   "source": [
    "#for i in range(len(data[:])):\n",
    "#    a1=data[:,0]\n",
    "#    a2=data[:,1]\n",
    "#    a3=data[:,2]\n",
    "#    a4=data[:,3]\n",
    "#a5=[a1.std(), a2.std(), a3.std(),a4.std()]\n",
    "#print(a5)"
   ]
  },
  {
   "cell_type": "code",
   "execution_count": 689,
   "id": "a8fd232c-61de-4608-8a8f-4924673505b6",
   "metadata": {},
   "outputs": [],
   "source": [
    "def mean_std(data):\n",
    "    data=data[:,:4]\n",
    "    mean = data.mean(0)\n",
    "    std = data.std(0)\n",
    "    return mean, std\n",
    "#print(data)"
   ]
  },
  {
   "cell_type": "code",
   "execution_count": 690,
   "id": "ad7e63d0-3411-46b0-9a29-3a0307df1141",
   "metadata": {},
   "outputs": [
    {
     "name": "stdout",
     "output_type": "stream",
     "text": [
      "       0    1    2    3    4\n",
      "0    5.1  3.5  1.4  0.2  1.0\n",
      "1    4.9  3.0  1.4  0.2  1.0\n",
      "2    4.7  3.2  1.3  0.2  1.0\n",
      "3    4.6  3.1  1.5  0.2  1.0\n",
      "4    5.0  3.6  1.4  0.2  1.0\n",
      "..   ...  ...  ...  ...  ...\n",
      "145  6.7  3.0  5.2  2.3  3.0\n",
      "146  6.3  2.5  5.0  1.9  3.0\n",
      "147  6.5  3.0  5.2  2.0  3.0\n",
      "148  6.2  3.4  5.4  2.3  3.0\n",
      "149  5.9  3.0  5.1  1.8  3.0\n",
      "\n",
      "[150 rows x 5 columns]\n"
     ]
    },
    {
     "data": {
      "text/plain": [
       "4\n",
       "1.0    50\n",
       "2.0    50\n",
       "3.0    50\n",
       "dtype: int64"
      ]
     },
     "execution_count": 690,
     "metadata": {},
     "output_type": "execute_result"
    }
   ],
   "source": [
    "df = pd.DataFrame(data)\n",
    "print(df)\n",
    "df.groupby(4).size()"
   ]
  },
  {
   "cell_type": "code",
   "execution_count": 691,
   "id": "95d053d7-3833-4bee-ba7c-8d2b03d53635",
   "metadata": {},
   "outputs": [],
   "source": [
    "def classes(data):\n",
    "    df = pd.DataFrame(data)\n",
    "    return df.groupby(4).size()"
   ]
  },
  {
   "cell_type": "code",
   "execution_count": 692,
   "id": "585cff00-a2f3-4aa5-9040-c6c9bddaadf9",
   "metadata": {},
   "outputs": [
    {
     "data": {
      "image/png": "[encoded data removed]",
      "text/plain": [
       "<Figure size 432x288 with 1 Axes>"
      ]
     },
     "metadata": {
      "needs_background": "light"
     },
     "output_type": "display_data"
    }
   ],
   "source": [
    "sepal_length = data[:,0]\n",
    "plt.figure()\n",
    "plt.hist(sepal_length,bins = np.linspace(4,8,9))\n",
    "plt.xlabel('Sepal.Length')\n",
    "plt.ylabel('Frequency')\n",
    "#plt.title('Histogtam of Sepal Length')\n",
    "plt.savefig('Desktop/unsw/Data mining/Sepal_Lenght.png')"
   ]
  },
  {
   "cell_type": "code",
   "execution_count": 693,
   "id": "b7d2bcc0-12c6-4f83-a92c-64e030acb3fe",
   "metadata": {},
   "outputs": [],
   "source": [
    "def figure1(data, ):\n",
    "    sepal_length = data[:,0]\n",
    "    plt.figure()\n",
    "    plt.hist(sepal_length,bins = np.linspace(4,8,9))\n",
    "    plt.xlabel('Sepal.Length')\n",
    "    plt.ylabel('Frequency')\n",
    "    #plt.title('Histogtam of Sepal Length')\n",
    "    plt.savefig(f\"Desktop/unsw/Data mining/Sepal_Lenght_1.png\")"
   ]
  },
  {
   "cell_type": "code",
   "execution_count": 694,
   "id": "8cab04e5-e7fb-435a-a68f-e987873eff54",
   "metadata": {},
   "outputs": [
    {
     "data": {
      "image/png": "[encoded data removed]",
      "text/plain": [
       "<Figure size 432x288 with 1 Axes>"
      ]
     },
     "metadata": {
      "needs_background": "light"
     },
     "output_type": "display_data"
    }
   ],
   "source": [
    "sepal_width = data[:,1]\n",
    "plt.figure()\n",
    "#bins=np.linspace(2,5,13)\n",
    "plt.hist(sepal_width, bins=np.linspace(2,5,13))\n",
    "plt.xlabel('Sepal.Width')\n",
    "plt.ylabel('Frequency')\n",
    "#plt.title('Histogram of Sepal Width')\n",
    "plt.savefig('Desktop/unsw/Data mining/Sepal_Width.png')"
   ]
  },
  {
   "cell_type": "code",
   "execution_count": 695,
   "id": "b3549e4e-fe83-44d3-9b36-09931c1503ae",
   "metadata": {},
   "outputs": [],
   "source": [
    "def figure2(data):\n",
    "    sepal_width = data[:,1]\n",
    "    plt.figure()\n",
    "    #bins=np.linspace(2,5,13)\n",
    "    plt.hist(sepal_width, bins=np.linspace(2,5,13))\n",
    "    plt.xlabel('Sepal.Width')\n",
    "    plt.ylabel('Frequency')\n",
    "    #plt.title('Histogram of Sepal Width')\n",
    "    plt.savefig('Desktop/unsw/Data mining/Sepal_Width_1.png')"
   ]
  },
  {
   "cell_type": "code",
   "execution_count": 696,
   "id": "8fea3599-75d4-4c90-845d-3ec9dcf0367f",
   "metadata": {},
   "outputs": [
    {
     "data": {
      "image/png": "[encoded data removed]",
      "text/plain": [
       "<Figure size 432x288 with 1 Axes>"
      ]
     },
     "metadata": {
      "needs_background": "light"
     },
     "output_type": "display_data"
    }
   ],
   "source": [
    "petal_length=data[:,2]\n",
    "plt.figure()\n",
    "plt.hist(petal_length, bins=np.linspace(1,7,13))\n",
    "plt.xlabel('Petal.Length')\n",
    "plt.ylabel('Frequency')\n",
    "#plt.title('Histogram of Petal Length')\n",
    "plt.savefig('Desktop/unsw/Data mining/Petal_Length.png')"
   ]
  },
  {
   "cell_type": "code",
   "execution_count": 697,
   "id": "7ba469d0-3878-47c7-b1c7-5e0568e8f8e4",
   "metadata": {},
   "outputs": [],
   "source": [
    "def figure3(data):\n",
    "    petal_length=data[:,2]\n",
    "    plt.figure()\n",
    "    plt.hist(petal_length, bins=np.linspace(1,7,13))\n",
    "    plt.xlabel('Petal.Length')\n",
    "    plt.ylabel('Frequency')\n",
    "    #plt.title('Histogram of Petal Length')\n",
    "    plt.savefig('Desktop/unsw/Data mining/Petal_Length_1.png')"
   ]
  },
  {
   "cell_type": "code",
   "execution_count": 698,
   "id": "46bde373-a977-427f-9dd2-c2d802fe1060",
   "metadata": {},
   "outputs": [
    {
     "data": {
      "image/png": "[encoded data removed]",
      "text/plain": [
       "<Figure size 432x288 with 1 Axes>"
      ]
     },
     "metadata": {
      "needs_background": "light"
     },
     "output_type": "display_data"
    }
   ],
   "source": [
    "petal_width=data[:,3]\n",
    "plt.figure()\n",
    "plt.hist(petal_width, bins=np.linspace(0,3,13))\n",
    "plt.xlabel('Petal.Length')\n",
    "plt.ylabel('Frequency')\n",
    "#plt.title('Histogram of Petal Length')\n",
    "plt.savefig('Desktop/unsw/Data mining/Petal_Width.png')"
   ]
  },
  {
   "cell_type": "code",
   "execution_count": 699,
   "id": "9c463b4b-28da-484b-9ef3-caef961cfa6e",
   "metadata": {},
   "outputs": [],
   "source": [
    "def figure4(data):\n",
    "    petal_width=data[:,3]\n",
    "    plt.figure()\n",
    "    plt.hist(petal_width, bins=np.linspace(0,3,13))\n",
    "    plt.xlabel('Petal.Length')\n",
    "    plt.ylabel('Frequency')\n",
    "    #plt.title('Histogram of Petal Length')\n",
    "    plt.savefig('Desktop/unsw/Data mining/Petal_Width_1.png')"
   ]
  },
  {
   "cell_type": "code",
   "execution_count": 700,
   "id": "eb2b42c5-c07f-42c4-83a8-decbf11e17ff",
   "metadata": {},
   "outputs": [
    {
     "name": "stdout",
     "output_type": "stream",
     "text": [
      "[  0   1   2   4   5   6   8   9  10  11  14  15  23  25  28  29  33  42\n",
      "  44  53  58  59  62  65  66  67  68  69  70  71  72  74  79  80  82  84\n",
      "  87  91  94 100 101 102 107 109 110 115 117 121 122 126 127 128 131 132\n",
      " 134 136 137 140 143 148]\n"
     ]
    }
   ],
   "source": [
    "# randomly\n",
    "train_num = int(0.6*len(data))\n",
    "data_pro=data\n",
    "arr_train = random.sample(range(0,len(data)), train_num)\n",
    "arr1=list(range(0,150))\n",
    "arr_test=np.setdiff1d(arr1,arr_train)\n",
    "print(arr_test)"
   ]
  },
  {
   "cell_type": "code",
   "execution_count": 701,
   "id": "1e00358c-48ce-4789-bdb6-4cba4e59a882",
   "metadata": {},
   "outputs": [],
   "source": [
    "j=0\n",
    "k=0\n",
    "data_train1=[[0]*5]*len(arr_train)\n",
    "for i in range(len(data)):\n",
    "    if i in arr_train:\n",
    "        data_train1[j]=data_pro[i]\n",
    "        j=j+1\n",
    "data_train1=np.array(data_train1)\n",
    "#print(data_train1)\n",
    "\n",
    "\n",
    "data_test1=[[0]*5]*len(arr_test)\n",
    "for i in range(len(data)):\n",
    "    if i in arr_test:\n",
    "        data_test1[k]=data_pro[i]\n",
    "        k=k+1\n",
    "data_test1=np.array(data_test1)\n",
    "#print(data_test1)"
   ]
  },
  {
   "cell_type": "code",
   "execution_count": 702,
   "id": "e90aca9b-1571-44ac-aaed-82348625c3cc",
   "metadata": {},
   "outputs": [],
   "source": [
    "data_train2 = data_pro[:train_num]\n",
    "data_test2 = data_pro[train_num:]\n",
    "#print(data_train2)\n",
    "#print(data_test2)"
   ]
  },
  {
   "cell_type": "code",
   "execution_count": 703,
   "id": "3b098a7d-f5fd-4ec5-b3eb-3e06c647a724",
   "metadata": {},
   "outputs": [
    {
     "name": "stdout",
     "output_type": "stream",
     "text": [
      "(array([5.81555556, 3.03222222, 3.68666667, 1.16777778]), array([0.83438748, 0.39856068, 1.74694654, 0.7466708 ]))\n",
      "(array([5.885     , 3.08666667, 3.86666667, 1.245     ]), array([0.80969645, 0.47625857, 1.77027933, 0.77876505]))\n",
      "(array([5.45222222, 3.13444444, 2.73222222, 0.73555556]), array([0.65966789, 0.47706536, 1.454329  , 0.57180244]))\n",
      "(array([5.885     , 3.08666667, 3.86666667, 1.245     ]), array([0.80969645, 0.47625857, 1.77027933, 0.77876505]))\n"
     ]
    }
   ],
   "source": [
    "print(mean_std(data_train1))\n",
    "print(mean_std(data_test1))\n",
    "print(mean_std(data_train2))\n",
    "print(mean_std(data_test1))"
   ]
  },
  {
   "cell_type": "code",
   "execution_count": 704,
   "id": "5b773c8a-e46a-4e9c-bc8c-f1a84cca812b",
   "metadata": {},
   "outputs": [
    {
     "data": {
      "text/plain": [
       "4\n",
       "1.0    31\n",
       "2.0    30\n",
       "3.0    29\n",
       "dtype: int64"
      ]
     },
     "execution_count": 704,
     "metadata": {},
     "output_type": "execute_result"
    }
   ],
   "source": [
    "classes(data_train1)"
   ]
  },
  {
   "cell_type": "code",
   "execution_count": 705,
   "id": "8048f542-e385-44ef-989e-acbd471ee793",
   "metadata": {},
   "outputs": [
    {
     "data": {
      "text/plain": [
       "4\n",
       "1.0    19\n",
       "2.0    20\n",
       "3.0    21\n",
       "dtype: int64"
      ]
     },
     "execution_count": 705,
     "metadata": {},
     "output_type": "execute_result"
    }
   ],
   "source": [
    "classes(data_test1)"
   ]
  },
  {
   "cell_type": "code",
   "execution_count": 706,
   "id": "ff4b3bf6-d50d-4f0b-ac8c-d61033b3109d",
   "metadata": {},
   "outputs": [
    {
     "data": {
      "text/plain": [
       "4\n",
       "1.0    50\n",
       "2.0    40\n",
       "dtype: int64"
      ]
     },
     "execution_count": 706,
     "metadata": {},
     "output_type": "execute_result"
    }
   ],
   "source": [
    "classes(data_train2)"
   ]
  },
  {
   "cell_type": "code",
   "execution_count": 707,
   "id": "117710c2-a77a-4a18-b068-8b74ebc403ed",
   "metadata": {},
   "outputs": [
    {
     "data": {
      "text/plain": [
       "4\n",
       "2.0    10\n",
       "3.0    50\n",
       "dtype: int64"
      ]
     },
     "execution_count": 707,
     "metadata": {},
     "output_type": "execute_result"
    }
   ],
   "source": [
    "classes(data_test2)"
   ]
  },
  {
   "cell_type": "code",
   "execution_count": 708,
   "id": "35d46663-753e-4193-9e70-4279d6ad7301",
   "metadata": {},
   "outputs": [
    {
     "data": {
      "image/png": "[encoded data removed]",
      "text/plain": [
       "<Figure size 432x288 with 1 Axes>"
      ]
     },
     "metadata": {
      "needs_background": "light"
     },
     "output_type": "display_data"
    },
    {
     "data": {
      "image/png": "[encoded data removed]",
      "text/plain": [
       "<Figure size 432x288 with 1 Axes>"
      ]
     },
     "metadata": {
      "needs_background": "light"
     },
     "output_type": "display_data"
    },
    {
     "data": {
      "image/png": "[encoded data removed]",
      "text/plain": [
       "<Figure size 432x288 with 1 Axes>"
      ]
     },
     "metadata": {
      "needs_background": "light"
     },
     "output_type": "display_data"
    },
    {
     "data": {
      "image/png": "[encoded data removed]",
      "text/plain": [
       "<Figure size 432x288 with 1 Axes>"
      ]
     },
     "metadata": {
      "needs_background": "light"
     },
     "output_type": "display_data"
    }
   ],
   "source": [
    "figure1(data_train1)\n",
    "figure2(data_train1)\n",
    "figure3(data_train1)\n",
    "figure4(data_train1)"
   ]
  },
  {
   "cell_type": "code",
   "execution_count": null,
   "id": "34e1a235-67ee-46b5-adac-70df323e8201",
   "metadata": {},
   "outputs": [],
   "source": []
  },
  {
   "cell_type": "code",
   "execution_count": 709,
   "id": "01370d0b-f67f-432e-bcf4-a6d5a6e02dcd",
   "metadata": {},
   "outputs": [],
   "source": [
    "def subset(data, n):\n",
    "    data=np.array(data)\n",
    "    data=data[:,n]\n",
    "    return data"
   ]
  },
  {
   "cell_type": "code",
   "execution_count": 710,
   "id": "bd76f316-f960-49fb-b19d-21083c46493d",
   "metadata": {},
   "outputs": [
    {
     "name": "stdin",
     "output_type": "stream",
     "text": [
      "input: feature 1\n"
     ]
    },
    {
     "data": {
      "text/plain": [
       "array([3.1, 3.4, 3. , 3. , 3.9, 3.5, 3.8, 3.8, 3.4, 3.7, 3.6, 3.4, 3.4,\n",
       "       3.5, 3.1, 3.4, 4.1, 3.1, 3.2, 3.5, 3.1, 3. , 3.4, 3.5, 2.3, 3.5,\n",
       "       3. , 3.8, 3.2, 3.7, 3.3, 3.2, 3.2, 3.1, 2.8, 2.8, 3.3, 2.4, 2. ,\n",
       "       3. , 2.9, 2.9, 2.8, 3. , 2.8, 3. , 2.9, 2.4, 2.7, 3.4, 3.1, 3. ,\n",
       "       2.5, 2.6, 2.6, 2.3, 3. , 2.9, 2.9, 2.5, 2.8, 2.9, 3. , 3. , 2.5,\n",
       "       2.5, 2.7, 3. , 2.5, 2.8, 3. , 2.6, 2.2, 3.2, 2.7, 3.3, 3.2, 3. ,\n",
       "       2.8, 2.8, 3. , 3. , 3.1, 3.1, 2.7, 3.3, 3. , 2.5, 3. , 3. ])"
      ]
     },
     "execution_count": 710,
     "metadata": {},
     "output_type": "execute_result"
    }
   ],
   "source": [
    "n = input(\"input: feature\")\n",
    "n=int(n)\n",
    "subset(data_train1, n)"
   ]
  },
  {
   "cell_type": "code",
   "execution_count": 711,
   "id": "4f543e8c-2093-41f7-b9d4-6c98e89ff7f7",
   "metadata": {},
   "outputs": [
    {
     "data": {
      "text/plain": [
       "array([3.5, 3. , 3.2, 3.6, 3.9, 3.4, 2.9, 3.1, 3.7, 3.4, 4. , 4.4, 3.3,\n",
       "       3. , 3.4, 3.2, 4.2, 3.2, 3.8, 2.3, 2.9, 2.7, 2.2, 3.1, 3. , 2.7,\n",
       "       2.2, 2.5, 3.2, 2.8, 2.5, 2.9, 2.6, 2.4, 2.7, 3. , 2.3, 3. , 2.7,\n",
       "       3.3, 2.7, 3. , 2.9, 3.6, 3.2, 3.2, 3.8, 2.8, 2.8, 2.8, 3. , 2.8,\n",
       "       3.8, 2.8, 2.6, 3.4, 3.1, 3.1, 3.2, 3.4])"
      ]
     },
     "execution_count": 711,
     "metadata": {},
     "output_type": "execute_result"
    }
   ],
   "source": [
    "subset(data_test1,n)"
   ]
  },
  {
   "cell_type": "code",
   "execution_count": 712,
   "id": "4187c4c0-e4db-482a-a369-db324193661f",
   "metadata": {},
   "outputs": [
    {
     "data": {
      "text/plain": [
       "array([3.5, 3. , 3.2, 3.1, 3.6, 3.9, 3.4, 3.4, 2.9, 3.1, 3.7, 3.4, 3. ,\n",
       "       3. , 4. , 4.4, 3.9, 3.5, 3.8, 3.8, 3.4, 3.7, 3.6, 3.3, 3.4, 3. ,\n",
       "       3.4, 3.5, 3.4, 3.2, 3.1, 3.4, 4.1, 4.2, 3.1, 3.2, 3.5, 3.1, 3. ,\n",
       "       3.4, 3.5, 2.3, 3.2, 3.5, 3.8, 3. , 3.8, 3.2, 3.7, 3.3, 3.2, 3.2,\n",
       "       3.1, 2.3, 2.8, 2.8, 3.3, 2.4, 2.9, 2.7, 2. , 3. , 2.2, 2.9, 2.9,\n",
       "       3.1, 3. , 2.7, 2.2, 2.5, 3.2, 2.8, 2.5, 2.8, 2.9, 3. , 2.8, 3. ,\n",
       "       2.9, 2.6, 2.4, 2.4, 2.7, 2.7, 3. , 3.4, 3.1, 2.3, 3. , 2.5])"
      ]
     },
     "execution_count": 712,
     "metadata": {},
     "output_type": "execute_result"
    }
   ],
   "source": [
    "subset(data_train2,n)"
   ]
  },
  {
   "cell_type": "code",
   "execution_count": 713,
   "id": "02af8112-b716-4c81-bb6b-42e2e86442ea",
   "metadata": {},
   "outputs": [
    {
     "data": {
      "text/plain": [
       "array([2.6, 3. , 2.6, 2.3, 2.7, 3. , 2.9, 2.9, 2.5, 2.8, 3.3, 2.7, 3. ,\n",
       "       2.9, 3. , 3. , 2.5, 2.9, 2.5, 3.6, 3.2, 2.7, 3. , 2.5, 2.8, 3.2,\n",
       "       3. , 3.8, 2.6, 2.2, 3.2, 2.8, 2.8, 2.7, 3.3, 3.2, 2.8, 3. , 2.8,\n",
       "       3. , 2.8, 3.8, 2.8, 2.8, 2.6, 3. , 3.4, 3.1, 3. , 3.1, 3.1, 3.1,\n",
       "       2.7, 3.2, 3.3, 3. , 2.5, 3. , 3.4, 3. ])"
      ]
     },
     "execution_count": 713,
     "metadata": {},
     "output_type": "execute_result"
    }
   ],
   "source": [
    "subset(data_test2,n)"
   ]
  },
  {
   "cell_type": "code",
   "execution_count": 731,
   "id": "9782ae7c-ee87-47da-92d4-d7852c6adc0b",
   "metadata": {},
   "outputs": [],
   "source": [
    "subset1=[[0]*5]*50\n",
    "subset2=[[0]*5]*50\n",
    "p=0\n",
    "for i in range(50):\n",
    "    subset1[p]=data[i]\n",
    "    p=p+1\n",
    "subset1=np.array(subset1)\n",
    "#print(subset1)\n",
    "q=0\n",
    "for i in range(50,100):\n",
    "    subset2[q]=data[i]\n",
    "    q=q+1\n",
    "subset2=np.array(subset2)\n",
    "#print(subset2)\n",
    "\n",
    "np.savetxt('Desktop/unsw/Data mining/binary_iristrain.txt',subset1,fmt='%1.2f', delimiter=\",\")\n",
    "np.savetxt('Desktop/unsw/Data mining/binary_iristest.txt',subset1,fmt='%1.2f', delimiter=\",\")"
   ]
  },
  {
   "cell_type": "code",
   "execution_count": 736,
   "id": "80f2f819-049c-4b62-9d92-555aea6a0e02",
   "metadata": {},
   "outputs": [
    {
     "name": "stdout",
     "output_type": "stream",
     "text": [
      "150\n",
      "[3.5 3.  3.2 3.1 3.6 3.9 3.4 3.4 2.9 3.1 3.7 3.4 3.  3.  4.  4.4 3.9 3.5\n",
      " 3.8 3.8 3.4 3.7 3.6 3.3 3.4 3.  3.4 3.5 3.4 3.2 3.1 3.4 4.1 4.2 3.1 3.2\n",
      " 3.5 3.1 3.  3.4 3.5 2.3 3.2 3.5 3.8 3.  3.8 3.2 3.7 3.3 3.2 3.2 3.1 2.3\n",
      " 2.8 2.8 3.3 2.4 2.9 2.7 2.  3.  2.2 2.9 2.9 3.1 3.  2.7 2.2 2.5 3.2 2.8\n",
      " 2.5 2.8 2.9 3.  2.8 3.  2.9 2.6 2.4 2.4 2.7 2.7 3.  3.4 3.1 2.3 3.  2.5\n",
      " 2.6 3.  2.6 2.3 2.7 3.  2.9 2.9 2.5 2.8 3.3 2.7 3.  2.9 3.  3.  2.5 2.9\n",
      " 2.5 3.6 3.2 2.7 3.  2.5 2.8 3.2 3.  3.8 2.6 2.2 3.2 2.8 2.8 2.7 3.3 3.2\n",
      " 2.8 3.  2.8 3.  2.8 3.8 2.8 2.8 2.6 3.  3.4 3.1 3.  3.1 3.1 3.1 2.7 3.2\n",
      " 3.3 3.  2.5 3.  3.4 3. ]\n"
     ]
    }
   ],
   "source": [
    "w=int(len(data))\n",
    "print(w)\n",
    "data_c=data[1,:]\n",
    "print(data[:,1])"
   ]
  },
  {
   "cell_type": "code",
   "execution_count": 748,
   "id": "ee0e4294-de2c-415b-bee6-ff5cc308ff6b",
   "metadata": {},
   "outputs": [],
   "source": [
    "def normalise(data):\n",
    "    min = data.min(0)\n",
    "    max = data.max(0)\n",
    "    data=(data-min)/(max-min)\n",
    "    return data"
   ]
  },
  {
   "cell_type": "code",
   "execution_count": 749,
   "id": "4b1bc4dd-4c66-413a-918c-e704e8e2a757",
   "metadata": {},
   "outputs": [
    {
     "name": "stdout",
     "output_type": "stream",
     "text": [
      "[[0.22222222 0.625      0.06779661 0.04166667 0.        ]\n",
      " [0.16666667 0.41666667 0.06779661 0.04166667 0.        ]\n",
      " [0.11111111 0.5        0.05084746 0.04166667 0.        ]\n",
      " [0.08333333 0.45833333 0.08474576 0.04166667 0.        ]\n",
      " [0.19444444 0.66666667 0.06779661 0.04166667 0.        ]\n",
      " [0.30555556 0.79166667 0.11864407 0.125      0.        ]\n",
      " [0.08333333 0.58333333 0.06779661 0.08333333 0.        ]\n",
      " [0.19444444 0.58333333 0.08474576 0.04166667 0.        ]\n",
      " [0.02777778 0.375      0.06779661 0.04166667 0.        ]\n",
      " [0.16666667 0.45833333 0.08474576 0.         0.        ]\n",
      " [0.30555556 0.70833333 0.08474576 0.04166667 0.        ]\n",
      " [0.13888889 0.58333333 0.10169492 0.04166667 0.        ]\n",
      " [0.13888889 0.41666667 0.06779661 0.         0.        ]\n",
      " [0.         0.41666667 0.01694915 0.         0.        ]\n",
      " [0.41666667 0.83333333 0.03389831 0.04166667 0.        ]\n",
      " [0.38888889 1.         0.08474576 0.125      0.        ]\n",
      " [0.30555556 0.79166667 0.05084746 0.125      0.        ]\n",
      " [0.22222222 0.625      0.06779661 0.08333333 0.        ]\n",
      " [0.38888889 0.75       0.11864407 0.08333333 0.        ]\n",
      " [0.22222222 0.75       0.08474576 0.08333333 0.        ]\n",
      " [0.30555556 0.58333333 0.11864407 0.04166667 0.        ]\n",
      " [0.22222222 0.70833333 0.08474576 0.125      0.        ]\n",
      " [0.08333333 0.66666667 0.         0.04166667 0.        ]\n",
      " [0.22222222 0.54166667 0.11864407 0.16666667 0.        ]\n",
      " [0.13888889 0.58333333 0.15254237 0.04166667 0.        ]\n",
      " [0.19444444 0.41666667 0.10169492 0.04166667 0.        ]\n",
      " [0.19444444 0.58333333 0.10169492 0.125      0.        ]\n",
      " [0.25       0.625      0.08474576 0.04166667 0.        ]\n",
      " [0.25       0.58333333 0.06779661 0.04166667 0.        ]\n",
      " [0.11111111 0.5        0.10169492 0.04166667 0.        ]\n",
      " [0.13888889 0.45833333 0.10169492 0.04166667 0.        ]\n",
      " [0.30555556 0.58333333 0.08474576 0.125      0.        ]\n",
      " [0.25       0.875      0.08474576 0.         0.        ]\n",
      " [0.33333333 0.91666667 0.06779661 0.04166667 0.        ]\n",
      " [0.16666667 0.45833333 0.08474576 0.         0.        ]\n",
      " [0.19444444 0.5        0.03389831 0.04166667 0.        ]\n",
      " [0.33333333 0.625      0.05084746 0.04166667 0.        ]\n",
      " [0.16666667 0.45833333 0.08474576 0.         0.        ]\n",
      " [0.02777778 0.41666667 0.05084746 0.04166667 0.        ]\n",
      " [0.22222222 0.58333333 0.08474576 0.04166667 0.        ]\n",
      " [0.19444444 0.625      0.05084746 0.08333333 0.        ]\n",
      " [0.05555556 0.125      0.05084746 0.08333333 0.        ]\n",
      " [0.02777778 0.5        0.05084746 0.04166667 0.        ]\n",
      " [0.19444444 0.625      0.10169492 0.20833333 0.        ]\n",
      " [0.22222222 0.75       0.15254237 0.125      0.        ]\n",
      " [0.13888889 0.41666667 0.06779661 0.08333333 0.        ]\n",
      " [0.22222222 0.75       0.10169492 0.04166667 0.        ]\n",
      " [0.08333333 0.5        0.06779661 0.04166667 0.        ]\n",
      " [0.27777778 0.70833333 0.08474576 0.04166667 0.        ]\n",
      " [0.19444444 0.54166667 0.06779661 0.04166667 0.        ]\n",
      " [0.75       0.5        0.62711864 0.54166667 0.5       ]\n",
      " [0.58333333 0.5        0.59322034 0.58333333 0.5       ]\n",
      " [0.72222222 0.45833333 0.66101695 0.58333333 0.5       ]\n",
      " [0.33333333 0.125      0.50847458 0.5        0.5       ]\n",
      " [0.61111111 0.33333333 0.61016949 0.58333333 0.5       ]\n",
      " [0.38888889 0.33333333 0.59322034 0.5        0.5       ]\n",
      " [0.55555556 0.54166667 0.62711864 0.625      0.5       ]\n",
      " [0.16666667 0.16666667 0.38983051 0.375      0.5       ]\n",
      " [0.63888889 0.375      0.61016949 0.5        0.5       ]\n",
      " [0.25       0.29166667 0.49152542 0.54166667 0.5       ]\n",
      " [0.19444444 0.         0.42372881 0.375      0.5       ]\n",
      " [0.44444444 0.41666667 0.54237288 0.58333333 0.5       ]\n",
      " [0.47222222 0.08333333 0.50847458 0.375      0.5       ]\n",
      " [0.5        0.375      0.62711864 0.54166667 0.5       ]\n",
      " [0.36111111 0.375      0.44067797 0.5        0.5       ]\n",
      " [0.66666667 0.45833333 0.57627119 0.54166667 0.5       ]\n",
      " [0.36111111 0.41666667 0.59322034 0.58333333 0.5       ]\n",
      " [0.41666667 0.29166667 0.52542373 0.375      0.5       ]\n",
      " [0.52777778 0.08333333 0.59322034 0.58333333 0.5       ]\n",
      " [0.36111111 0.20833333 0.49152542 0.41666667 0.5       ]\n",
      " [0.44444444 0.5        0.6440678  0.70833333 0.5       ]\n",
      " [0.5        0.33333333 0.50847458 0.5        0.5       ]\n",
      " [0.55555556 0.20833333 0.66101695 0.58333333 0.5       ]\n",
      " [0.5        0.33333333 0.62711864 0.45833333 0.5       ]\n",
      " [0.58333333 0.375      0.55932203 0.5        0.5       ]\n",
      " [0.63888889 0.41666667 0.57627119 0.54166667 0.5       ]\n",
      " [0.69444444 0.33333333 0.6440678  0.54166667 0.5       ]\n",
      " [0.66666667 0.41666667 0.6779661  0.66666667 0.5       ]\n",
      " [0.47222222 0.375      0.59322034 0.58333333 0.5       ]\n",
      " [0.38888889 0.25       0.42372881 0.375      0.5       ]\n",
      " [0.33333333 0.16666667 0.47457627 0.41666667 0.5       ]\n",
      " [0.33333333 0.16666667 0.45762712 0.375      0.5       ]\n",
      " [0.41666667 0.29166667 0.49152542 0.45833333 0.5       ]\n",
      " [0.47222222 0.29166667 0.69491525 0.625      0.5       ]\n",
      " [0.30555556 0.41666667 0.59322034 0.58333333 0.5       ]\n",
      " [0.47222222 0.58333333 0.59322034 0.625      0.5       ]\n",
      " [0.66666667 0.45833333 0.62711864 0.58333333 0.5       ]\n",
      " [0.55555556 0.125      0.57627119 0.5        0.5       ]\n",
      " [0.36111111 0.41666667 0.52542373 0.5        0.5       ]\n",
      " [0.33333333 0.20833333 0.50847458 0.5        0.5       ]\n",
      " [0.33333333 0.25       0.57627119 0.45833333 0.5       ]\n",
      " [0.5        0.41666667 0.61016949 0.54166667 0.5       ]\n",
      " [0.41666667 0.25       0.50847458 0.45833333 0.5       ]\n",
      " [0.19444444 0.125      0.38983051 0.375      0.5       ]\n",
      " [0.36111111 0.29166667 0.54237288 0.5        0.5       ]\n",
      " [0.38888889 0.41666667 0.54237288 0.45833333 0.5       ]\n",
      " [0.38888889 0.375      0.54237288 0.5        0.5       ]\n",
      " [0.52777778 0.375      0.55932203 0.5        0.5       ]\n",
      " [0.22222222 0.20833333 0.33898305 0.41666667 0.5       ]\n",
      " [0.38888889 0.33333333 0.52542373 0.5        0.5       ]\n",
      " [0.55555556 0.54166667 0.84745763 1.         1.        ]\n",
      " [0.41666667 0.29166667 0.69491525 0.75       1.        ]\n",
      " [0.77777778 0.41666667 0.83050847 0.83333333 1.        ]\n",
      " [0.55555556 0.375      0.77966102 0.70833333 1.        ]\n",
      " [0.61111111 0.41666667 0.81355932 0.875      1.        ]\n",
      " [0.91666667 0.41666667 0.94915254 0.83333333 1.        ]\n",
      " [0.16666667 0.20833333 0.59322034 0.66666667 1.        ]\n",
      " [0.83333333 0.375      0.89830508 0.70833333 1.        ]\n",
      " [0.66666667 0.20833333 0.81355932 0.70833333 1.        ]\n",
      " [0.80555556 0.66666667 0.86440678 1.         1.        ]\n",
      " [0.61111111 0.5        0.69491525 0.79166667 1.        ]\n",
      " [0.58333333 0.29166667 0.72881356 0.75       1.        ]\n",
      " [0.69444444 0.41666667 0.76271186 0.83333333 1.        ]\n",
      " [0.38888889 0.20833333 0.6779661  0.79166667 1.        ]\n",
      " [0.41666667 0.33333333 0.69491525 0.95833333 1.        ]\n",
      " [0.58333333 0.5        0.72881356 0.91666667 1.        ]\n",
      " [0.61111111 0.41666667 0.76271186 0.70833333 1.        ]\n",
      " [0.94444444 0.75       0.96610169 0.875      1.        ]\n",
      " [0.94444444 0.25       1.         0.91666667 1.        ]\n",
      " [0.47222222 0.08333333 0.6779661  0.58333333 1.        ]\n",
      " [0.72222222 0.5        0.79661017 0.91666667 1.        ]\n",
      " [0.36111111 0.33333333 0.66101695 0.79166667 1.        ]\n",
      " [0.94444444 0.33333333 0.96610169 0.79166667 1.        ]\n",
      " [0.55555556 0.29166667 0.66101695 0.70833333 1.        ]\n",
      " [0.66666667 0.54166667 0.79661017 0.83333333 1.        ]\n",
      " [0.80555556 0.5        0.84745763 0.70833333 1.        ]\n",
      " [0.52777778 0.33333333 0.6440678  0.70833333 1.        ]\n",
      " [0.5        0.41666667 0.66101695 0.70833333 1.        ]\n",
      " [0.58333333 0.33333333 0.77966102 0.83333333 1.        ]\n",
      " [0.80555556 0.41666667 0.81355932 0.625      1.        ]\n",
      " [0.86111111 0.33333333 0.86440678 0.75       1.        ]\n",
      " [1.         0.75       0.91525424 0.79166667 1.        ]\n",
      " [0.58333333 0.33333333 0.77966102 0.875      1.        ]\n",
      " [0.55555556 0.33333333 0.69491525 0.58333333 1.        ]\n",
      " [0.5        0.25       0.77966102 0.54166667 1.        ]\n",
      " [0.94444444 0.41666667 0.86440678 0.91666667 1.        ]\n",
      " [0.55555556 0.58333333 0.77966102 0.95833333 1.        ]\n",
      " [0.58333333 0.45833333 0.76271186 0.70833333 1.        ]\n",
      " [0.47222222 0.41666667 0.6440678  0.70833333 1.        ]\n",
      " [0.72222222 0.45833333 0.74576271 0.83333333 1.        ]\n",
      " [0.66666667 0.45833333 0.77966102 0.95833333 1.        ]\n",
      " [0.72222222 0.45833333 0.69491525 0.91666667 1.        ]\n",
      " [0.41666667 0.29166667 0.69491525 0.75       1.        ]\n",
      " [0.69444444 0.5        0.83050847 0.91666667 1.        ]\n",
      " [0.66666667 0.54166667 0.79661017 1.         1.        ]\n",
      " [0.66666667 0.41666667 0.71186441 0.91666667 1.        ]\n",
      " [0.55555556 0.20833333 0.6779661  0.75       1.        ]\n",
      " [0.61111111 0.41666667 0.71186441 0.79166667 1.        ]\n",
      " [0.52777778 0.58333333 0.74576271 0.91666667 1.        ]\n",
      " [0.44444444 0.41666667 0.69491525 0.70833333 1.        ]]\n"
     ]
    }
   ],
   "source": [
    "data_normalise=normalise(data)\n",
    "print(data_normalise)"
   ]
  },
  {
   "cell_type": "code",
   "execution_count": null,
   "id": "fcb308a9-2cb8-4f58-8898-51f0ff4f2212",
   "metadata": {},
   "outputs": [],
   "source": []
  }
 ],
 "metadata": {
  "kernelspec": {
   "display_name": "Python 3",
   "language": "python",
   "name": "python3"
  },
  "language_info": {
   "codemirror_mode": {
    "name": "ipython",
    "version": 3
   },
   "file_extension": ".py",
   "mimetype": "text/x-python",
   "name": "python",
   "nbconvert_exporter": "python",
   "pygments_lexer": "ipython3",
   "version": "3.8.8"
  }
 },
 "nbformat": 4,
 "nbformat_minor": 5
}
